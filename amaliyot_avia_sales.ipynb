{
  "metadata": {
    "kernelspec": {
      "language": "python",
      "display_name": "Python 3",
      "name": "python3"
    },
    "language_info": {
      "name": "python",
      "version": "3.10.14",
      "mimetype": "text/x-python",
      "codemirror_mode": {
        "name": "ipython",
        "version": 3
      },
      "pygments_lexer": "ipython3",
      "nbconvert_exporter": "python",
      "file_extension": ".py"
    },
    "kaggle": {
      "accelerator": "none",
      "dataSources": [
        {
          "sourceId": 9597431,
          "sourceType": "datasetVersion",
          "datasetId": 5854619
        }
      ],
      "dockerImageVersionId": 30786,
      "isInternetEnabled": false,
      "language": "python",
      "sourceType": "notebook",
      "isGpuEnabled": false
    },
    "colab": {
      "name": "notebookc275eeb571",
      "provenance": [],
      "include_colab_link": true
    }
  },
  "nbformat_minor": 0,
  "nbformat": 4,
  "cells": [
    {
      "cell_type": "markdown",
      "metadata": {
        "id": "view-in-github",
        "colab_type": "text"
      },
      "source": [
        "<a href=\"https://colab.research.google.com/github/AsadbekTuronov/data_science_and_AI/blob/main/amaliyot_avia_sales.ipynb\" target=\"_parent\"><img src=\"https://colab.research.google.com/assets/colab-badge.svg\" alt=\"Open In Colab\"/></a>"
      ]
    },
    {
      "source": [
        "\n",
        "# IMPORTANT: RUN THIS CELL IN ORDER TO IMPORT YOUR KAGGLE DATA SOURCES\n",
        "# TO THE CORRECT LOCATION (/kaggle/input) IN YOUR NOTEBOOK,\n",
        "# THEN FEEL FREE TO DELETE THIS CELL.\n",
        "# NOTE: THIS NOTEBOOK ENVIRONMENT DIFFERS FROM KAGGLE'S PYTHON\n",
        "# ENVIRONMENT SO THERE MAY BE MISSING LIBRARIES USED BY YOUR\n",
        "# NOTEBOOK.\n",
        "\n",
        "import os\n",
        "import sys\n",
        "from tempfile import NamedTemporaryFile\n",
        "from urllib.request import urlopen\n",
        "from urllib.parse import unquote, urlparse\n",
        "from urllib.error import HTTPError\n",
        "from zipfile import ZipFile\n",
        "import tarfile\n",
        "import shutil\n",
        "\n",
        "CHUNK_SIZE = 40960\n",
        "DATA_SOURCE_MAPPING = 'avia-sales:https%3A%2F%2Fstorage.googleapis.com%2Fkaggle-data-sets%2F5854619%2F9597431%2Fbundle%2Farchive.zip%3FX-Goog-Algorithm%3DGOOG4-RSA-SHA256%26X-Goog-Credential%3Dgcp-kaggle-com%2540kaggle-161607.iam.gserviceaccount.com%252F20241012%252Fauto%252Fstorage%252Fgoog4_request%26X-Goog-Date%3D20241012T014103Z%26X-Goog-Expires%3D259200%26X-Goog-SignedHeaders%3Dhost%26X-Goog-Signature%3D1464af7d6c23ee14e2ced66f45623ba8820a8f906607a02f3b9e0c36c2534534d88da058cd665f4404eab37b34f3e5339cad32450b4380cbf8d182b1415c47f7f1653329ac1b707239a4030afc276fe965606811cd3ea3daec999461e339033aef20a99357094c74ff368f68440c45135cf6bc81f25eb9d06e2afb34039fa5c834db1ebe661b45ba05a5c07b6e8a14848df932b5336f2e59a902ddabcfc108a37c63dadd6ac5ce64227b5343d1ff14d095deba2d20023d54c20885b02dca25e1d50f92d04bb66179615ecdbf0c689a69250beb16da6e03a0350fb868b65cb5ca37b046b756d6bce3528ecec7597beae287b6e46bd61ae659765e72e00c51b700'\n",
        "\n",
        "KAGGLE_INPUT_PATH='/kaggle/input'\n",
        "KAGGLE_WORKING_PATH='/kaggle/working'\n",
        "KAGGLE_SYMLINK='kaggle'\n",
        "\n",
        "!umount /kaggle/input/ 2> /dev/null\n",
        "shutil.rmtree('/kaggle/input', ignore_errors=True)\n",
        "os.makedirs(KAGGLE_INPUT_PATH, 0o777, exist_ok=True)\n",
        "os.makedirs(KAGGLE_WORKING_PATH, 0o777, exist_ok=True)\n",
        "\n",
        "try:\n",
        "  os.symlink(KAGGLE_INPUT_PATH, os.path.join(\"..\", 'input'), target_is_directory=True)\n",
        "except FileExistsError:\n",
        "  pass\n",
        "try:\n",
        "  os.symlink(KAGGLE_WORKING_PATH, os.path.join(\"..\", 'working'), target_is_directory=True)\n",
        "except FileExistsError:\n",
        "  pass\n",
        "\n",
        "for data_source_mapping in DATA_SOURCE_MAPPING.split(','):\n",
        "    directory, download_url_encoded = data_source_mapping.split(':')\n",
        "    download_url = unquote(download_url_encoded)\n",
        "    filename = urlparse(download_url).path\n",
        "    destination_path = os.path.join(KAGGLE_INPUT_PATH, directory)\n",
        "    try:\n",
        "        with urlopen(download_url) as fileres, NamedTemporaryFile() as tfile:\n",
        "            total_length = fileres.headers['content-length']\n",
        "            print(f'Downloading {directory}, {total_length} bytes compressed')\n",
        "            dl = 0\n",
        "            data = fileres.read(CHUNK_SIZE)\n",
        "            while len(data) > 0:\n",
        "                dl += len(data)\n",
        "                tfile.write(data)\n",
        "                done = int(50 * dl / int(total_length))\n",
        "                sys.stdout.write(f\"\\r[{'=' * done}{' ' * (50-done)}] {dl} bytes downloaded\")\n",
        "                sys.stdout.flush()\n",
        "                data = fileres.read(CHUNK_SIZE)\n",
        "            if filename.endswith('.zip'):\n",
        "              with ZipFile(tfile) as zfile:\n",
        "                zfile.extractall(destination_path)\n",
        "            else:\n",
        "              with tarfile.open(tfile.name) as tarfile:\n",
        "                tarfile.extractall(destination_path)\n",
        "            print(f'\\nDownloaded and uncompressed: {directory}')\n",
        "    except HTTPError as e:\n",
        "        print(f'Failed to load (likely expired) {download_url} to path {destination_path}')\n",
        "        continue\n",
        "    except OSError as e:\n",
        "        print(f'Failed to load {download_url} to path {destination_path}')\n",
        "        continue\n",
        "\n",
        "print('Data source import complete.')\n"
      ],
      "metadata": {
        "id": "22EjwdlPZJQr"
      },
      "cell_type": "code",
      "outputs": [],
      "execution_count": null
    },
    {
      "cell_type": "code",
      "source": [
        "# This Python 3 environment comes with many helpful analytics libraries installed\n",
        "# It is defined by the kaggle/python Docker image: https://github.com/kaggle/docker-python\n",
        "# For example, here's several helpful packages to load\n",
        "\n",
        "import numpy as np # linear algebra\n",
        "import pandas as pd # data processing, CSV file I/O (e.g. pd.read_csv)\n",
        "\n",
        "# Input data files are available in the read-only \"../input/\" directory\n",
        "# For example, running this (by clicking run or pressing Shift+Enter) will list all files under the input directory\n",
        "\n",
        "import os\n",
        "for dirname, _, filenames in os.walk('/kaggle/input'):\n",
        "    for filename in filenames:\n",
        "        print(os.path.join(dirname, filename))\n",
        "\n",
        "# You can write up to 20GB to the current directory (/kaggle/working/) that gets preserved as output when you create a version using \"Save & Run All\"\n",
        "# You can also write temporary files to /kaggle/temp/, but they won't be saved outside of the current session"
      ],
      "metadata": {
        "_uuid": "8f2839f25d086af736a60e9eeb907d3b93b6e0e5",
        "_cell_guid": "b1076dfc-b9ad-4769-8c92-a6c4dae69d19",
        "execution": {
          "iopub.status.busy": "2024-10-12T00:27:28.605778Z",
          "iopub.execute_input": "2024-10-12T00:27:28.606175Z",
          "iopub.status.idle": "2024-10-12T00:27:29.838786Z",
          "shell.execute_reply.started": "2024-10-12T00:27:28.606131Z",
          "shell.execute_reply": "2024-10-12T00:27:29.837596Z"
        },
        "trusted": true,
        "id": "OYJ4FUCeZJQx"
      },
      "execution_count": null,
      "outputs": []
    },
    {
      "cell_type": "markdown",
      "source": [
        "**show data definition**"
      ],
      "metadata": {
        "id": "zKqFGKP7ZJQy"
      }
    },
    {
      "cell_type": "code",
      "source": [
        "df = pd.read_csv(\"/kaggle/input/avia-sales/train_data.csv\")"
      ],
      "metadata": {
        "execution": {
          "iopub.status.busy": "2024-10-12T00:27:34.466808Z",
          "iopub.execute_input": "2024-10-12T00:27:34.467597Z",
          "iopub.status.idle": "2024-10-12T00:27:34.564699Z",
          "shell.execute_reply.started": "2024-10-12T00:27:34.467534Z",
          "shell.execute_reply": "2024-10-12T00:27:34.56343Z"
        },
        "trusted": true,
        "id": "WAP3iLkPZJQz"
      },
      "execution_count": null,
      "outputs": []
    },
    {
      "cell_type": "code",
      "source": [
        "df.head()"
      ],
      "metadata": {
        "execution": {
          "iopub.status.busy": "2024-10-12T00:27:38.284995Z",
          "iopub.execute_input": "2024-10-12T00:27:38.285449Z",
          "iopub.status.idle": "2024-10-12T00:27:38.315903Z",
          "shell.execute_reply.started": "2024-10-12T00:27:38.285402Z",
          "shell.execute_reply": "2024-10-12T00:27:38.314668Z"
        },
        "trusted": true,
        "id": "GeN7O-bMZJQ0"
      },
      "execution_count": null,
      "outputs": []
    },
    {
      "cell_type": "code",
      "source": [
        "df.info()"
      ],
      "metadata": {
        "execution": {
          "iopub.status.busy": "2024-10-12T00:27:44.485027Z",
          "iopub.execute_input": "2024-10-12T00:27:44.485507Z",
          "iopub.status.idle": "2024-10-12T00:27:44.532592Z",
          "shell.execute_reply.started": "2024-10-12T00:27:44.48546Z",
          "shell.execute_reply": "2024-10-12T00:27:44.531436Z"
        },
        "trusted": true,
        "id": "OvaU4IMaZJQ0"
      },
      "execution_count": null,
      "outputs": []
    },
    {
      "cell_type": "code",
      "source": [
        "df.describe()"
      ],
      "metadata": {
        "execution": {
          "iopub.status.busy": "2024-10-12T00:27:49.998042Z",
          "iopub.execute_input": "2024-10-12T00:27:49.999211Z",
          "iopub.status.idle": "2024-10-12T00:27:50.031575Z",
          "shell.execute_reply.started": "2024-10-12T00:27:49.999147Z",
          "shell.execute_reply": "2024-10-12T00:27:50.030322Z"
        },
        "trusted": true,
        "id": "mPhp59ZXZJQ1"
      },
      "execution_count": null,
      "outputs": []
    },
    {
      "cell_type": "markdown",
      "source": [
        "**Data preproccessing**"
      ],
      "metadata": {
        "id": "Wtmm_qPsZJQ1"
      }
    },
    {
      "cell_type": "code",
      "source": [
        "from sklearn.pipeline import Pipeline\n",
        "from sklearn.compose import ColumnTransformer\n",
        "from sklearn.preprocessing import FunctionTransformer, OneHotEncoder"
      ],
      "metadata": {
        "execution": {
          "iopub.status.busy": "2024-10-12T00:27:54.275807Z",
          "iopub.execute_input": "2024-10-12T00:27:54.276391Z",
          "iopub.status.idle": "2024-10-12T00:27:54.914846Z",
          "shell.execute_reply.started": "2024-10-12T00:27:54.276316Z",
          "shell.execute_reply": "2024-10-12T00:27:54.913656Z"
        },
        "trusted": true,
        "id": "_oxY318zZJQ2"
      },
      "execution_count": null,
      "outputs": []
    },
    {
      "cell_type": "code",
      "source": [
        "def drop_NaN_rows(x):\n",
        "    return x.dropna()"
      ],
      "metadata": {
        "execution": {
          "iopub.status.busy": "2024-10-12T00:27:57.019416Z",
          "iopub.execute_input": "2024-10-12T00:27:57.020027Z",
          "iopub.status.idle": "2024-10-12T00:27:57.025609Z",
          "shell.execute_reply.started": "2024-10-12T00:27:57.01998Z",
          "shell.execute_reply": "2024-10-12T00:27:57.024204Z"
        },
        "trusted": true,
        "id": "l47ccyZIZJQ2"
      },
      "execution_count": null,
      "outputs": []
    },
    {
      "cell_type": "code",
      "source": [
        "column_transformer=ColumnTransformer(transformers=[\n",
        "    (\"onehotencoder\", OneHotEncoder(drop='first'), [\"departure_time\", \"stops\", \"arrival_time\", \"class\"],)\n",
        "], remainder='passthrough')"
      ],
      "metadata": {
        "execution": {
          "iopub.status.busy": "2024-10-12T00:27:59.391283Z",
          "iopub.execute_input": "2024-10-12T00:27:59.391758Z",
          "iopub.status.idle": "2024-10-12T00:27:59.397698Z",
          "shell.execute_reply.started": "2024-10-12T00:27:59.391712Z",
          "shell.execute_reply": "2024-10-12T00:27:59.396348Z"
        },
        "trusted": true,
        "id": "-LFVQ4qCZJQ3"
      },
      "execution_count": null,
      "outputs": []
    },
    {
      "cell_type": "code",
      "source": [
        "pipe1 = Pipeline(steps=[\n",
        "    (\"drop NaN rows\", FunctionTransformer(drop_NaN_rows)),\n",
        "    (\"column transformer\", column_transformer)\n",
        "])"
      ],
      "metadata": {
        "execution": {
          "iopub.status.busy": "2024-10-12T00:28:04.322993Z",
          "iopub.execute_input": "2024-10-12T00:28:04.323503Z",
          "iopub.status.idle": "2024-10-12T00:28:04.329242Z",
          "shell.execute_reply.started": "2024-10-12T00:28:04.323455Z",
          "shell.execute_reply": "2024-10-12T00:28:04.327749Z"
        },
        "trusted": true,
        "id": "LYYszFRAZJQ3"
      },
      "execution_count": null,
      "outputs": []
    },
    {
      "cell_type": "code",
      "source": [
        "a = pipe1.fit_transform(df)\n",
        "ocl = pipe1.named_steps['column transformer'].named_transformers_['onehotencoder'].get_feature_names_out([\"departure_time\", \"stops\", \"arrival_time\", \"class\"])\n",
        "a1l = list(ocl)+[i for i in df.columns if i not in [\"departure_time\", \"stops\", \"arrival_time\", \"class\"]]\n",
        "t_data = pd.DataFrame(a, columns=a1l)"
      ],
      "metadata": {
        "execution": {
          "iopub.status.busy": "2024-10-12T00:28:29.425009Z",
          "iopub.execute_input": "2024-10-12T00:28:29.426144Z",
          "iopub.status.idle": "2024-10-12T00:28:29.550124Z",
          "shell.execute_reply.started": "2024-10-12T00:28:29.426081Z",
          "shell.execute_reply": "2024-10-12T00:28:29.548967Z"
        },
        "trusted": true,
        "id": "fio9hDuKZJQ3"
      },
      "execution_count": null,
      "outputs": []
    },
    {
      "cell_type": "code",
      "source": [
        "t_data.sample(5)"
      ],
      "metadata": {
        "execution": {
          "iopub.status.busy": "2024-10-12T00:28:32.103952Z",
          "iopub.execute_input": "2024-10-12T00:28:32.104878Z",
          "iopub.status.idle": "2024-10-12T00:28:32.139871Z",
          "shell.execute_reply.started": "2024-10-12T00:28:32.104827Z",
          "shell.execute_reply": "2024-10-12T00:28:32.138673Z"
        },
        "trusted": true,
        "id": "PHpePmerZJQ4"
      },
      "execution_count": null,
      "outputs": []
    },
    {
      "cell_type": "code",
      "source": [
        "for i in [\"id\", \"airline\", \"flight\", \"source_city\", \"destination_city\"]:\n",
        "    t_data.drop(i, axis=1, inplace=True)"
      ],
      "metadata": {
        "execution": {
          "iopub.status.busy": "2024-10-12T00:28:41.726785Z",
          "iopub.execute_input": "2024-10-12T00:28:41.727244Z",
          "iopub.status.idle": "2024-10-12T00:28:41.773703Z",
          "shell.execute_reply.started": "2024-10-12T00:28:41.727198Z",
          "shell.execute_reply": "2024-10-12T00:28:41.772375Z"
        },
        "trusted": true,
        "id": "EPOEjG6gZJQ4"
      },
      "execution_count": null,
      "outputs": []
    },
    {
      "cell_type": "code",
      "source": [
        "t_data.corrwith(t_data[\"price\"])"
      ],
      "metadata": {
        "execution": {
          "iopub.status.busy": "2024-10-12T00:28:48.605287Z",
          "iopub.execute_input": "2024-10-12T00:28:48.605742Z",
          "iopub.status.idle": "2024-10-12T00:28:48.75408Z",
          "shell.execute_reply.started": "2024-10-12T00:28:48.605701Z",
          "shell.execute_reply": "2024-10-12T00:28:48.752823Z"
        },
        "trusted": true,
        "id": "gKFTo7ljZJQ4"
      },
      "execution_count": null,
      "outputs": []
    },
    {
      "cell_type": "markdown",
      "source": [
        "**modelling**"
      ],
      "metadata": {
        "id": "S75e4s4HZJQ4"
      }
    },
    {
      "cell_type": "code",
      "source": [
        "from sklearn.linear_model import LinearRegression, Ridge, PoissonRegressor\n",
        "from sklearn.ensemble import AdaBoostRegressor, RandomForestRegressor, BaggingRegressor, StackingRegressor\n",
        "from sklearn.model_selection import train_test_split\n",
        "from sklearn.metrics import mean_absolute_error, mean_squared_error"
      ],
      "metadata": {
        "execution": {
          "iopub.status.busy": "2024-10-12T01:10:25.32671Z",
          "iopub.execute_input": "2024-10-12T01:10:25.327904Z",
          "iopub.status.idle": "2024-10-12T01:10:25.333783Z",
          "shell.execute_reply.started": "2024-10-12T01:10:25.327852Z",
          "shell.execute_reply": "2024-10-12T01:10:25.332447Z"
        },
        "trusted": true,
        "id": "Gct-DFTeZJQ4"
      },
      "execution_count": null,
      "outputs": []
    },
    {
      "cell_type": "code",
      "source": [
        "x, y = t_data.drop(\"price\", axis=1), t_data[\"price\"]"
      ],
      "metadata": {
        "execution": {
          "iopub.status.busy": "2024-10-12T00:42:09.150956Z",
          "iopub.execute_input": "2024-10-12T00:42:09.151483Z",
          "iopub.status.idle": "2024-10-12T00:42:09.162014Z",
          "shell.execute_reply.started": "2024-10-12T00:42:09.151438Z",
          "shell.execute_reply": "2024-10-12T00:42:09.160726Z"
        },
        "trusted": true,
        "id": "uyHkF_u1ZJQ4"
      },
      "execution_count": null,
      "outputs": []
    },
    {
      "cell_type": "code",
      "source": [
        "x_train, x_test, y_train, y_test = train_test_split(x, y, test_size=0.2, random_state=42)"
      ],
      "metadata": {
        "execution": {
          "iopub.status.busy": "2024-10-12T00:43:09.783892Z",
          "iopub.execute_input": "2024-10-12T00:43:09.784424Z",
          "iopub.status.idle": "2024-10-12T00:43:09.80534Z",
          "shell.execute_reply.started": "2024-10-12T00:43:09.784369Z",
          "shell.execute_reply": "2024-10-12T00:43:09.803853Z"
        },
        "trusted": true,
        "id": "wOd5G-6iZJQ5"
      },
      "execution_count": null,
      "outputs": []
    },
    {
      "cell_type": "code",
      "source": [
        "linearmodel = LinearRegression()\n",
        "linearmodel.fit(x_train, y_train)"
      ],
      "metadata": {
        "execution": {
          "iopub.status.busy": "2024-10-12T00:43:54.175872Z",
          "iopub.execute_input": "2024-10-12T00:43:54.176329Z",
          "iopub.status.idle": "2024-10-12T00:43:54.24294Z",
          "shell.execute_reply.started": "2024-10-12T00:43:54.176287Z",
          "shell.execute_reply": "2024-10-12T00:43:54.24161Z"
        },
        "trusted": true,
        "id": "FrC5yDQbZJQ5"
      },
      "execution_count": null,
      "outputs": []
    },
    {
      "cell_type": "code",
      "source": [
        "linearpred = linearmodel.predict(x_test)"
      ],
      "metadata": {
        "execution": {
          "iopub.status.busy": "2024-10-12T00:47:59.961082Z",
          "iopub.execute_input": "2024-10-12T00:47:59.961539Z",
          "iopub.status.idle": "2024-10-12T00:47:59.976299Z",
          "shell.execute_reply.started": "2024-10-12T00:47:59.9615Z",
          "shell.execute_reply": "2024-10-12T00:47:59.974644Z"
        },
        "trusted": true,
        "id": "rplL1isXZJQ5"
      },
      "execution_count": null,
      "outputs": []
    },
    {
      "cell_type": "code",
      "source": [
        "ridgeregressionmodel = Ridge(1.0)\n",
        "ridgeregressionmodel.fit(x_train, y_train)"
      ],
      "metadata": {
        "execution": {
          "iopub.status.busy": "2024-10-12T00:52:34.502762Z",
          "iopub.execute_input": "2024-10-12T00:52:34.503213Z",
          "iopub.status.idle": "2024-10-12T00:52:34.542572Z",
          "shell.execute_reply.started": "2024-10-12T00:52:34.503164Z",
          "shell.execute_reply": "2024-10-12T00:52:34.541026Z"
        },
        "trusted": true,
        "id": "EfmY9DxJZJQ5"
      },
      "execution_count": null,
      "outputs": []
    },
    {
      "cell_type": "code",
      "source": [
        "ridgeregressionpred = ridgeregressionmodel.predict(x_test)"
      ],
      "metadata": {
        "execution": {
          "iopub.status.busy": "2024-10-12T00:52:53.032246Z",
          "iopub.execute_input": "2024-10-12T00:52:53.032774Z",
          "iopub.status.idle": "2024-10-12T00:52:53.046291Z",
          "shell.execute_reply.started": "2024-10-12T00:52:53.032726Z",
          "shell.execute_reply": "2024-10-12T00:52:53.044611Z"
        },
        "trusted": true,
        "id": "I7xbnQzYZJQ5"
      },
      "execution_count": null,
      "outputs": []
    },
    {
      "cell_type": "code",
      "source": [
        "poissonregressormodel = PoissonRegressor()\n",
        "poissonregressormodel.fit(x_train, y_train)"
      ],
      "metadata": {
        "execution": {
          "iopub.status.busy": "2024-10-12T00:58:27.556732Z",
          "iopub.execute_input": "2024-10-12T00:58:27.557184Z",
          "iopub.status.idle": "2024-10-12T00:58:30.813651Z",
          "shell.execute_reply.started": "2024-10-12T00:58:27.557142Z",
          "shell.execute_reply": "2024-10-12T00:58:30.812158Z"
        },
        "trusted": true,
        "id": "CADkww3wZJQ5"
      },
      "execution_count": null,
      "outputs": []
    },
    {
      "cell_type": "code",
      "source": [
        "poissonregressorpred = poissonregressormodel.predict(x_test)"
      ],
      "metadata": {
        "execution": {
          "iopub.status.busy": "2024-10-12T00:59:19.366437Z",
          "iopub.execute_input": "2024-10-12T00:59:19.366896Z",
          "iopub.status.idle": "2024-10-12T00:59:19.38006Z",
          "shell.execute_reply.started": "2024-10-12T00:59:19.366853Z",
          "shell.execute_reply": "2024-10-12T00:59:19.378432Z"
        },
        "trusted": true,
        "id": "uABcfge5ZJQ6"
      },
      "execution_count": null,
      "outputs": []
    },
    {
      "cell_type": "code",
      "source": [
        "adaboostregressormodel = AdaBoostRegressor()\n",
        "adaboostregressormodel.fit(x_train, y_train)"
      ],
      "metadata": {
        "execution": {
          "iopub.status.busy": "2024-10-12T01:03:09.062827Z",
          "iopub.execute_input": "2024-10-12T01:03:09.063232Z",
          "iopub.status.idle": "2024-10-12T01:03:09.809533Z",
          "shell.execute_reply.started": "2024-10-12T01:03:09.063189Z",
          "shell.execute_reply": "2024-10-12T01:03:09.808254Z"
        },
        "trusted": true,
        "id": "2KzWKDuDZJQ6"
      },
      "execution_count": null,
      "outputs": []
    },
    {
      "cell_type": "code",
      "source": [
        "adaboostregressorpred = adaboostregressormodel.predict(x_test)"
      ],
      "metadata": {
        "execution": {
          "iopub.status.busy": "2024-10-12T01:03:14.572504Z",
          "iopub.execute_input": "2024-10-12T01:03:14.573702Z",
          "iopub.status.idle": "2024-10-12T01:03:14.645868Z",
          "shell.execute_reply.started": "2024-10-12T01:03:14.573649Z",
          "shell.execute_reply": "2024-10-12T01:03:14.644745Z"
        },
        "trusted": true,
        "id": "5DhHtSqOZJQ6"
      },
      "execution_count": null,
      "outputs": []
    },
    {
      "cell_type": "code",
      "source": [
        "randomforestregressormodel = RandomForestRegressor()\n",
        "randomforestregressormodel.fit(x_train, y_train)"
      ],
      "metadata": {
        "execution": {
          "iopub.status.busy": "2024-10-12T01:04:07.59945Z",
          "iopub.execute_input": "2024-10-12T01:04:07.59992Z",
          "iopub.status.idle": "2024-10-12T01:04:12.139105Z",
          "shell.execute_reply.started": "2024-10-12T01:04:07.599873Z",
          "shell.execute_reply": "2024-10-12T01:04:12.137965Z"
        },
        "trusted": true,
        "id": "4jtjhN5mZJQ6"
      },
      "execution_count": null,
      "outputs": []
    },
    {
      "cell_type": "code",
      "source": [
        "randomforestregressorpred = randomforestregressormodel.predict(x_test)"
      ],
      "metadata": {
        "execution": {
          "iopub.status.busy": "2024-10-12T01:04:27.910303Z",
          "iopub.execute_input": "2024-10-12T01:04:27.911484Z",
          "iopub.status.idle": "2024-10-12T01:04:28.053212Z",
          "shell.execute_reply.started": "2024-10-12T01:04:27.911431Z",
          "shell.execute_reply": "2024-10-12T01:04:28.051742Z"
        },
        "trusted": true,
        "id": "TzAZxyQFZJQ6"
      },
      "execution_count": null,
      "outputs": []
    },
    {
      "cell_type": "code",
      "source": [
        "baggingregressormodel = BaggingRegressor()\n",
        "baggingregressormodel.fit(x_train, y_train)"
      ],
      "metadata": {
        "execution": {
          "iopub.status.busy": "2024-10-12T01:05:12.417381Z",
          "iopub.execute_input": "2024-10-12T01:05:12.41784Z",
          "iopub.status.idle": "2024-10-12T01:05:13.088021Z",
          "shell.execute_reply.started": "2024-10-12T01:05:12.417796Z",
          "shell.execute_reply": "2024-10-12T01:05:13.086724Z"
        },
        "trusted": true,
        "id": "M9y3N1qZZJQ6"
      },
      "execution_count": null,
      "outputs": []
    },
    {
      "cell_type": "code",
      "source": [
        "baggingregressorpred = baggingregressormodel.predict(x_test)"
      ],
      "metadata": {
        "execution": {
          "iopub.status.busy": "2024-10-12T01:05:26.456806Z",
          "iopub.execute_input": "2024-10-12T01:05:26.457338Z",
          "iopub.status.idle": "2024-10-12T01:05:26.544228Z",
          "shell.execute_reply.started": "2024-10-12T01:05:26.457288Z",
          "shell.execute_reply": "2024-10-12T01:05:26.542905Z"
        },
        "trusted": true,
        "id": "g1syAMyLZJQ7"
      },
      "execution_count": null,
      "outputs": []
    },
    {
      "cell_type": "code",
      "source": [
        "base_regs = [\n",
        "    (\"linear\", LinearRegression()),\n",
        "    (\"ridge\", Ridge()),\n",
        "    (\"PoissonRegressor\", PoissonRegressor()),\n",
        "    (\"AdaBoostRegressor\", AdaBoostRegressor()),\n",
        "    (\"BaggingRegressor\", BaggingRegressor())\n",
        "]"
      ],
      "metadata": {
        "execution": {
          "iopub.status.busy": "2024-10-12T01:13:25.732287Z",
          "iopub.execute_input": "2024-10-12T01:13:25.732986Z",
          "iopub.status.idle": "2024-10-12T01:13:25.741092Z",
          "shell.execute_reply.started": "2024-10-12T01:13:25.732871Z",
          "shell.execute_reply": "2024-10-12T01:13:25.73935Z"
        },
        "trusted": true,
        "id": "4NiMLWWGZJQ7"
      },
      "execution_count": null,
      "outputs": []
    },
    {
      "cell_type": "code",
      "source": [
        "meta_reg = RandomForestRegressor()"
      ],
      "metadata": {
        "execution": {
          "iopub.status.busy": "2024-10-12T01:13:57.232889Z",
          "iopub.execute_input": "2024-10-12T01:13:57.233401Z",
          "iopub.status.idle": "2024-10-12T01:13:57.238833Z",
          "shell.execute_reply.started": "2024-10-12T01:13:57.233327Z",
          "shell.execute_reply": "2024-10-12T01:13:57.23747Z"
        },
        "trusted": true,
        "id": "90BjWyrXZJQ7"
      },
      "execution_count": null,
      "outputs": []
    },
    {
      "cell_type": "code",
      "source": [
        "stacking_regressor = StackingRegressor(estimators=base_regs, final_estimator=meta_reg)"
      ],
      "metadata": {
        "execution": {
          "iopub.status.busy": "2024-10-12T01:14:42.132243Z",
          "iopub.execute_input": "2024-10-12T01:14:42.1334Z",
          "iopub.status.idle": "2024-10-12T01:14:42.13837Z",
          "shell.execute_reply.started": "2024-10-12T01:14:42.133333Z",
          "shell.execute_reply": "2024-10-12T01:14:42.137156Z"
        },
        "trusted": true,
        "id": "po6aq5zNZJQ7"
      },
      "execution_count": null,
      "outputs": []
    },
    {
      "cell_type": "code",
      "source": [
        "stacking_regressor.fit(x_train, y_train)"
      ],
      "metadata": {
        "execution": {
          "iopub.status.busy": "2024-10-12T01:15:07.439623Z",
          "iopub.execute_input": "2024-10-12T01:15:07.440129Z",
          "iopub.status.idle": "2024-10-12T01:15:47.438411Z",
          "shell.execute_reply.started": "2024-10-12T01:15:07.440084Z",
          "shell.execute_reply": "2024-10-12T01:15:47.43714Z"
        },
        "trusted": true,
        "id": "zjzy99srZJQ8"
      },
      "execution_count": null,
      "outputs": []
    },
    {
      "cell_type": "code",
      "source": [
        "stackingregressorpred = stacking_regressor.predict(x_test)"
      ],
      "metadata": {
        "execution": {
          "iopub.status.busy": "2024-10-12T01:25:21.890079Z",
          "iopub.execute_input": "2024-10-12T01:25:21.890575Z",
          "iopub.status.idle": "2024-10-12T01:25:22.258211Z",
          "shell.execute_reply.started": "2024-10-12T01:25:21.89052Z",
          "shell.execute_reply": "2024-10-12T01:25:22.257027Z"
        },
        "trusted": true,
        "id": "dDUekgLAZJQ8"
      },
      "execution_count": null,
      "outputs": []
    },
    {
      "cell_type": "code",
      "source": [
        "def show_mae_mse(model_name, model):\n",
        "    print(model_name, \" \"*(25-len(model_name)), \"mean_absolute_error:\", mean_absolute_error(y_test, model), \" \"*(20-len(str(mean_absolute_error(y_test, model)))), \"mean_squared_error:\", mean_squared_error(y_test, model))"
      ],
      "metadata": {
        "execution": {
          "iopub.status.busy": "2024-10-12T01:29:41.134866Z",
          "iopub.execute_input": "2024-10-12T01:29:41.135493Z",
          "iopub.status.idle": "2024-10-12T01:29:41.143304Z",
          "shell.execute_reply.started": "2024-10-12T01:29:41.135429Z",
          "shell.execute_reply": "2024-10-12T01:29:41.141918Z"
        },
        "trusted": true,
        "id": "8nW84SSYZJQ8"
      },
      "execution_count": null,
      "outputs": []
    },
    {
      "cell_type": "code",
      "source": [
        "show_mae_mse(\"LinearRegression\", linearpred)\n",
        "show_mae_mse(\"Ridge\", ridgeregressionpred)\n",
        "show_mae_mse(\"PoissonRegressor\", poissonregressorpred)\n",
        "show_mae_mse(\"AdaBoostRegressor\", adaboostregressorpred)\n",
        "show_mae_mse(\"BaggingRegressor\", baggingregressorpred)\n",
        "show_mae_mse(\"RandomForestRegressor\", randomforestregressorpred)\n",
        "show_mae_mse(\"StackingRegressor\", stackingregressorpred)"
      ],
      "metadata": {
        "execution": {
          "iopub.status.busy": "2024-10-12T01:29:45.107288Z",
          "iopub.execute_input": "2024-10-12T01:29:45.107763Z",
          "iopub.status.idle": "2024-10-12T01:29:45.137666Z",
          "shell.execute_reply.started": "2024-10-12T01:29:45.10772Z",
          "shell.execute_reply": "2024-10-12T01:29:45.136438Z"
        },
        "trusted": true,
        "id": "f0KFaHT3ZJQ8"
      },
      "execution_count": null,
      "outputs": []
    }
  ]
}